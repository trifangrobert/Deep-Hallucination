{
 "cells": [
  {
   "cell_type": "code",
   "execution_count": 3,
   "metadata": {},
   "outputs": [],
   "source": [
    "import numpy as np\n",
    "import pandas as pd\n",
    "import matplotlib.pyplot as plt\n",
    "import seaborn as sns\n",
    "import os\n",
    "import sys"
   ]
  },
  {
   "cell_type": "code",
   "execution_count": null,
   "metadata": {},
   "outputs": [],
   "source": [
    "# DATA_PATH = \"/kaggle/input/unibuc-ml-202325/\"\n",
    "DATA_PATH = \"../data/\"\n",
    "hyperparameters = {\n",
    "    'batch_size': 64,\n",
    "    'learning_rate': 0.001,\n",
    "    'num_classes': 96,\n",
    "    'dropout': 0.5,\n",
    "    'trained_epochs': 0,\n",
    "    'patience': 5,\n",
    "    'image_size': (64, 64),\n",
    "    'best': 0,\n",
    "    'model_path': '../models/model_net.pth'\n",
    "}"
   ]
  },
  {
   "cell_type": "code",
   "execution_count": null,
   "metadata": {},
   "outputs": [],
   "source": [
    "def load_image(file):\n",
    "    img = Image.open(file)\n",
    "    img = img.resize((32,32))  # You may need to adjust the size or the process here based on your specific image data\n",
    "    img_array = np.array(img)\n",
    "    img_array = img_array.flatten()\n",
    "    return img_array\n"
   ]
  },
  {
   "cell_type": "code",
   "execution_count": 10,
   "metadata": {},
   "outputs": [],
   "source": [
    "def load_images_and_labels(path_img_dir, path_csv):\n",
    "    df = pd.read_csv(path_csv)\n",
    "    images_ids = df['Image'].values\n",
    "    images = []\n",
    "\n",
    "    if 'Class' in df.columns:\n",
    "        labels = df['Class'].values\n",
    "    else:\n",
    "        labels = None\n",
    "\n",
    "    for img_id in images_ids:\n",
    "        img_path = os.path.join(path_img_dir, img_id)\n",
    "        if os.path.isfile(img_path):\n",
    "            img_array = load_image(img_path)\n",
    "            images.append(img_array)\n",
    "\n",
    "    \n"
   ]
  },
  {
   "cell_type": "code",
   "execution_count": 11,
   "metadata": {},
   "outputs": [
    {
     "name": "stdout",
     "output_type": "stream",
     "text": [
      "['12953.png' '02978.png' '10718.png' '01916.png' '15254.png' '10871.png'\n",
      " '13745.png' '03218.png' '13367.png' '16226.png']\n"
     ]
    }
   ],
   "source": [
    "load_images_and_labels('../data/train_images', '../data/train.csv')"
   ]
  }
 ],
 "metadata": {
  "kernelspec": {
   "display_name": "aienv",
   "language": "python",
   "name": "python3"
  },
  "language_info": {
   "codemirror_mode": {
    "name": "ipython",
    "version": 3
   },
   "file_extension": ".py",
   "mimetype": "text/x-python",
   "name": "python",
   "nbconvert_exporter": "python",
   "pygments_lexer": "ipython3",
   "version": "3.11.3"
  },
  "orig_nbformat": 4
 },
 "nbformat": 4,
 "nbformat_minor": 2
}
