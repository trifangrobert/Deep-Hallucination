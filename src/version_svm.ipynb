{
 "cells": [
  {
   "cell_type": "code",
   "execution_count": 3,
   "metadata": {},
   "outputs": [],
   "source": [
    "import numpy as np\n",
    "import pandas as pd\n",
    "import matplotlib.pyplot as plt\n",
    "import seaborn as sns\n",
    "import os\n",
    "from sklearn import svm\n",
    "from PIL import Image\n",
    "import pickle\n",
    "from sklearn.metrics import accuracy_score, precision_score, recall_score, confusion_matrix\n",
    "from sklearn.preprocessing import StandardScaler"
   ]
  },
  {
   "cell_type": "code",
   "execution_count": 4,
   "metadata": {},
   "outputs": [],
   "source": [
    "def load_image(file):\n",
    "    img = Image.open(file)\n",
    "    img = img.resize((64,64))  # You may need to adjust the size or the process here based on your specific image data\n",
    "    img_array = np.array(img)\n",
    "    img_array = img_array.flatten()\n",
    "    return img_array\n"
   ]
  },
  {
   "cell_type": "code",
   "execution_count": 5,
   "metadata": {},
   "outputs": [],
   "source": [
    "def load_images_and_labels(path_image_dir, path_csv):\n",
    "    df = pd.read_csv(path_csv)\n",
    "    images_ids = df['Image'].values\n",
    "    images = []\n",
    "\n",
    "    if 'Class' in df.columns:\n",
    "        labels = df['Class'].values\n",
    "    else:\n",
    "        labels = None\n",
    "\n",
    "    for image_id in images_ids:\n",
    "        image_path = os.path.join(path_image_dir, image_id)\n",
    "        if os.path.isfile(image_path):\n",
    "            image_array = load_image(image_path)\n",
    "            images.append(image_array)\n",
    "    images = np.array(images)\n",
    "    return images, labels\n"
   ]
  },
  {
   "cell_type": "code",
   "execution_count": 6,
   "metadata": {},
   "outputs": [],
   "source": [
    "x_train, y_train = load_images_and_labels('../data/train_images', '../data/train.csv')\n",
    "x_val, y_val = load_images_and_labels('../data/val_images', '../data/val.csv')\n",
    "x_test, _ = load_images_and_labels('../data/test_images', '../data/test.csv')"
   ]
  },
  {
   "cell_type": "code",
   "execution_count": 8,
   "metadata": {},
   "outputs": [],
   "source": [
    "x_train = x_train[:3000]\n",
    "y_train = y_train[:3000]"
   ]
  },
  {
   "cell_type": "code",
   "execution_count": 17,
   "metadata": {},
   "outputs": [],
   "source": [
    "scaler = StandardScaler()\n",
    "scaler.fit(x_train)\n",
    "x_train = scaler.transform(x_train)\n",
    "x_val = scaler.transform(x_val)"
   ]
  },
  {
   "cell_type": "code",
   "execution_count": 18,
   "metadata": {},
   "outputs": [
    {
     "name": "stdout",
     "output_type": "stream",
     "text": [
      "[107.04158333 101.17216667 107.00675    ...  99.82908333  91.44475\n",
      "  97.55966667]\n",
      "[75.24539756 72.15628426 71.80566044 ... 74.93123094 71.37855734\n",
      " 72.04444536]\n"
     ]
    }
   ],
   "source": [
    "print(scaler.mean_)\n",
    "print(scaler.scale_)"
   ]
  },
  {
   "cell_type": "code",
   "execution_count": 49,
   "metadata": {},
   "outputs": [
    {
     "name": "stdout",
     "output_type": "stream",
     "text": [
      "[253 249 240 ... 248 237 225] 38\n"
     ]
    }
   ],
   "source": [
    "# print(x_train.shape) # images, 64*64*3\n",
    "print(x_train[0], y_train[0])"
   ]
  },
  {
   "cell_type": "code",
   "execution_count": 7,
   "metadata": {},
   "outputs": [],
   "source": [
    "c_values = [1]\n",
    "gamma_values = [1]\n",
    "# kernel_values = ['poly', 'rbf', 'sigmoid', 'linear',]\n",
    "kernel_values = ['poly']"
   ]
  },
  {
   "cell_type": "code",
   "execution_count": 28,
   "metadata": {},
   "outputs": [
    {
     "name": "stdout",
     "output_type": "stream",
     "text": [
      "C:  1\n",
      "Gamma:  1\n",
      "Kernel:  poly\n",
      "Kernel:  rbf\n",
      "Kernel:  sigmoid\n",
      "Kernel:  linear\n"
     ]
    }
   ],
   "source": [
    "for c in c_values:\n",
    "    print(\"C: \", c)\n",
    "    for gamma in gamma_values:\n",
    "        print(\"Gamma: \", gamma)\n",
    "        for kernel in kernel_values:\n",
    "            print(\"Kernel: \", kernel)\n",
    "            svc_instance = svm.SVC(C=c, gamma=gamma, kernel=kernel)\n",
    "            svc_instance.fit(x_train, y_train)\n",
    "            file_name = f\"../models/svm_{c}_{gamma}_{kernel}.pkl\"\n",
    "            with open(file_name, 'wb') as file:\n",
    "                pickle.dump(svc_instance, file)"
   ]
  },
  {
   "cell_type": "code",
   "execution_count": 8,
   "metadata": {},
   "outputs": [
    {
     "name": "stdout",
     "output_type": "stream",
     "text": [
      "Step: 1\n",
      "Configuration: poly, 1, 1\n",
      "[{'C': 1, 'gamma': 1, 'kernel': 'poly', 'accuracy': 0.333, 'precision': 0.3317324520349511, 'recall': 0.3246961082898583, 'conf_matrix': array([[1, 0, 0, ..., 0, 0, 1],\n",
      "       [0, 2, 0, ..., 0, 0, 0],\n",
      "       [0, 0, 8, ..., 0, 0, 0],\n",
      "       ...,\n",
      "       [0, 0, 0, ..., 4, 0, 0],\n",
      "       [0, 0, 0, ..., 0, 6, 0],\n",
      "       [0, 0, 1, ..., 0, 0, 3]])}]\n"
     ]
    }
   ],
   "source": [
    "all_models = []\n",
    "step = 0\n",
    "\n",
    "for c in c_values:\n",
    "    for gamma in gamma_values:\n",
    "        for kernel in kernel_values:\n",
    "            step += 1\n",
    "            print(f\"Step: {step}\")\n",
    "            print(f\"Configuration: {kernel}, {gamma}, {c}\")\n",
    "            file_name = f\"../models/svm_{c}_{gamma}_{kernel}.pkl\"\n",
    "            with open(file_name, 'rb') as file:\n",
    "                svc_instance = pickle.load(file)\n",
    "                predicted = svc_instance.predict(x_val)\n",
    "                accuracy = accuracy_score(y_val, predicted)\n",
    "                precision = precision_score(y_val, predicted, average='macro')\n",
    "                recall = recall_score(y_val, predicted, average='macro')\n",
    "                conf_matrix = confusion_matrix(y_val, predicted)\n",
    "                all_models.append({'C': c, 'gamma': gamma, 'kernel': kernel, 'accuracy': accuracy, 'precision': precision, 'recall': recall, 'conf_matrix': conf_matrix})\n",
    "\n",
    "print(all_models)"
   ]
  },
  {
   "cell_type": "code",
   "execution_count": 8,
   "metadata": {},
   "outputs": [
    {
     "ename": "",
     "evalue": "",
     "output_type": "error",
     "traceback": [
      "\u001b[1;31mCannot execute code, session has been disposed. Please try restarting the Kernel."
     ]
    },
    {
     "ename": "",
     "evalue": "",
     "output_type": "error",
     "traceback": [
      "\u001b[1;31mThe Kernel crashed while executing code in the the current cell or a previous cell. Please review the code in the cell(s) to identify a possible cause of the failure. Click <a href='https://aka.ms/vscodeJupyterKernelCrash'>here</a> for more info. View Jupyter <a href='command:jupyter.viewOutput'>log</a> for further details."
     ]
    }
   ],
   "source": [
    "file = open(\"../models/svm_models.pkl\", 'wb')\n",
    "pickle.dump(all_models, file)"
   ]
  },
  {
   "cell_type": "code",
   "execution_count": 11,
   "metadata": {},
   "outputs": [
    {
     "name": "stdout",
     "output_type": "stream",
     "text": [
      "[{'score': 0.036, 'C': 0.1, 'gamma': 1, 'kernel': 'rbf'}, {'score': 0.333, 'C': 0.1, 'gamma': 1, 'kernel': 'poly'}, {'score': 0.285, 'C': 0.1, 'gamma': 1, 'kernel': 'linear'}, {'score': 0.036, 'C': 0.1, 'gamma': 0.1, 'kernel': 'rbf'}, {'score': 0.333, 'C': 0.1, 'gamma': 0.1, 'kernel': 'poly'}, {'score': 0.285, 'C': 0.1, 'gamma': 0.1, 'kernel': 'linear'}, {'score': 0.036, 'C': 0.1, 'gamma': 0.01, 'kernel': 'rbf'}, {'score': 0.333, 'C': 0.1, 'gamma': 0.01, 'kernel': 'poly'}, {'score': 0.285, 'C': 0.1, 'gamma': 0.01, 'kernel': 'linear'}, {'score': 0.036, 'C': 1, 'gamma': 1, 'kernel': 'rbf'}, {'score': 0.333, 'C': 1, 'gamma': 1, 'kernel': 'poly'}, {'score': 0.285, 'C': 1, 'gamma': 1, 'kernel': 'linear'}, {'score': 0.036, 'C': 1, 'gamma': 0.1, 'kernel': 'rbf'}, {'score': 0.333, 'C': 1, 'gamma': 0.1, 'kernel': 'poly'}, {'score': 0.285, 'C': 1, 'gamma': 0.1, 'kernel': 'linear'}, {'score': 0.036, 'C': 1, 'gamma': 0.01, 'kernel': 'rbf'}, {'score': 0.333, 'C': 1, 'gamma': 0.01, 'kernel': 'poly'}, {'score': 0.285, 'C': 1, 'gamma': 0.01, 'kernel': 'linear'}, {'score': 0.036, 'C': 10, 'gamma': 1, 'kernel': 'rbf'}, {'score': 0.333, 'C': 10, 'gamma': 1, 'kernel': 'poly'}, {'score': 0.285, 'C': 10, 'gamma': 1, 'kernel': 'linear'}, {'score': 0.036, 'C': 10, 'gamma': 0.1, 'kernel': 'rbf'}, {'score': 0.333, 'C': 10, 'gamma': 0.1, 'kernel': 'poly'}, {'score': 0.285, 'C': 10, 'gamma': 0.1, 'kernel': 'linear'}, {'score': 0.036, 'C': 10, 'gamma': 0.01, 'kernel': 'rbf'}, {'score': 0.333, 'C': 10, 'gamma': 0.01, 'kernel': 'poly'}, {'score': 0.285, 'C': 10, 'gamma': 0.01, 'kernel': 'linear'}]\n"
     ]
    }
   ],
   "source": [
    "all_models = None\n",
    "with open(\"../models/svm_models.pkl\", 'rb') as file:\n",
    "    all_models = pickle.load(file)\n",
    "print(all_models)"
   ]
  },
  {
   "cell_type": "code",
   "execution_count": 9,
   "metadata": {},
   "outputs": [
    {
     "name": "stdout",
     "output_type": "stream",
     "text": [
      "{'C': 1, 'gamma': 1, 'kernel': 'poly', 'accuracy': 0.333, 'precision': 0.3317324520349511, 'recall': 0.3246961082898583, 'conf_matrix': array([[1, 0, 0, ..., 0, 0, 1],\n",
      "       [0, 2, 0, ..., 0, 0, 0],\n",
      "       [0, 0, 8, ..., 0, 0, 0],\n",
      "       ...,\n",
      "       [0, 0, 0, ..., 4, 0, 0],\n",
      "       [0, 0, 0, ..., 0, 6, 0],\n",
      "       [0, 0, 1, ..., 0, 0, 3]])}\n"
     ]
    }
   ],
   "source": [
    "for model in all_models:\n",
    "    print(model)"
   ]
  },
  {
   "cell_type": "code",
   "execution_count": 36,
   "metadata": {},
   "outputs": [
    {
     "name": "stdout",
     "output_type": "stream",
     "text": [
      "    kernel  precision    recall  accuracy\n",
      "0     poly   0.331732  0.324696     0.333\n",
      "1      rbf   0.000375  0.010417     0.036\n",
      "2  sigmoid   0.000375  0.010417     0.036\n",
      "3   linear   0.294230  0.280769     0.285\n"
     ]
    }
   ],
   "source": [
    "df = pd.DataFrame(all_models)\n",
    "\n",
    "df.drop('conf_matrix', axis=1, inplace=True)\n",
    "df.rename(columns={'score': 'accuracy'}, inplace=True)\n",
    "cols = list(df.columns.values)\n",
    "cols.pop(cols.index('accuracy'))\n",
    "df = df[cols+['accuracy']]\n",
    "df.drop('C', axis=1, inplace=True)\n",
    "df.drop('gamma', axis=1, inplace=True)\n",
    "\n",
    "# replace gamma parameter with - where kernel is linear\n",
    "\n",
    "print(df)\n"
   ]
  },
  {
   "cell_type": "code",
   "execution_count": 37,
   "metadata": {},
   "outputs": [],
   "source": [
    "# from IPython.display import display\n",
    "\n",
    "# display(df)\n",
    "\n",
    "import dataframe_image as dfi\n",
    "\n",
    "dfi.export(df, '../plots/svm_models_6.png')"
   ]
  },
  {
   "cell_type": "code",
   "execution_count": 12,
   "metadata": {},
   "outputs": [],
   "source": [
    "with open('../models/svm_1_1_poly.pkl', 'rb') as file:\n",
    "    svc_instance = pickle.load(file)\n",
    "    predicted = svc_instance.predict(x_test)"
   ]
  },
  {
   "cell_type": "code",
   "execution_count": 13,
   "metadata": {},
   "outputs": [],
   "source": [
    "with open('../data/test.csv', 'r') as test_file:\n",
    "    image_ids = test_file.readlines()\n",
    "    image_ids = [line.strip() for line in image_ids]\n",
    "    image_ids = image_ids[1:]\n",
    "    image_ids = [line.split(',') for line in image_ids]\n",
    "    image_ids = [line[0] for line in image_ids]\n"
   ]
  },
  {
   "cell_type": "code",
   "execution_count": 14,
   "metadata": {},
   "outputs": [
    {
     "name": "stdout",
     "output_type": "stream",
     "text": [
      "['29a5a33c-dc01-4515-b735-4f0a36dcc06d.png']\n"
     ]
    }
   ],
   "source": [
    "print(image_ids[:1])"
   ]
  },
  {
   "cell_type": "code",
   "execution_count": 15,
   "metadata": {},
   "outputs": [
    {
     "name": "stdout",
     "output_type": "stream",
     "text": [
      "[48]\n"
     ]
    }
   ],
   "source": [
    "print(predicted[:1])"
   ]
  },
  {
   "cell_type": "code",
   "execution_count": 16,
   "metadata": {},
   "outputs": [],
   "source": [
    "df_predictions = pd.DataFrame({\n",
    "    'Image': image_ids,\n",
    "    'Class': predicted\n",
    "})\n",
    "\n",
    "# Save the DataFrame to a CSV file\n",
    "df_predictions.to_csv('../submissions/submission_svm.csv', index=False)"
   ]
  },
  {
   "cell_type": "code",
   "execution_count": 13,
   "metadata": {},
   "outputs": [
    {
     "name": "stdout",
     "output_type": "stream",
     "text": [
      "[[1 0 0 ... 0 0 1]\n",
      " [0 2 0 ... 0 0 0]\n",
      " [0 0 8 ... 0 0 0]\n",
      " ...\n",
      " [0 0 0 ... 4 0 0]\n",
      " [0 0 0 ... 0 6 0]\n",
      " [0 0 1 ... 0 0 3]]\n"
     ]
    }
   ],
   "source": [
    "conf_matrix = all_models[0]['conf_matrix']\n",
    "print(conf_matrix)\n",
    "\n",
    "conf_matrix = conf_matrix.astype('float') / (conf_matrix.sum(axis=1)[:, np.newaxis] + 1e-7)\n",
    "\n",
    "plt.figure(figsize=(10, 10))\n",
    "sns.heatmap(conf_matrix, annot=False, linewidths=.5, square = True, cmap = 'Reds')\n",
    "plt.ylabel('Actual label')\n",
    "plt.xlabel('Predicted label')\n",
    "plt.title('Confusion Matrix', size = 15)\n",
    "plt.savefig('../plots/confusion_matrix_net_5.png')\n",
    "plt.show()\n"
   ]
  }
 ],
 "metadata": {
  "kernelspec": {
   "display_name": "aienv",
   "language": "python",
   "name": "python3"
  },
  "language_info": {
   "codemirror_mode": {
    "name": "ipython",
    "version": 3
   },
   "file_extension": ".py",
   "mimetype": "text/x-python",
   "name": "python",
   "nbconvert_exporter": "python",
   "pygments_lexer": "ipython3",
   "version": "3.11.3"
  },
  "orig_nbformat": 4
 },
 "nbformat": 4,
 "nbformat_minor": 2
}
