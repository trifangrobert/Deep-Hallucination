{
 "cells": [
  {
   "cell_type": "code",
   "execution_count": null,
   "metadata": {},
   "outputs": [],
   "source": [
    "import numpy as np\n",
    "import pandas as pd\n",
    "import matplotlib.pyplot as plt\n",
    "import seaborn as sns\n",
    "import os\n",
    "from sklearn import svm\n",
    "from PIL import Image\n",
    "import pickle"
   ]
  },
  {
   "cell_type": "code",
   "execution_count": null,
   "metadata": {},
   "outputs": [],
   "source": [
    "def load_image(file):\n",
    "    img = Image.open(file)\n",
    "    img = img.resize((64,64))  # You may need to adjust the size or the process here based on your specific image data\n",
    "    img_array = np.array(img)\n",
    "    img_array = img_array.flatten()\n",
    "    return img_array\n"
   ]
  },
  {
   "cell_type": "code",
   "execution_count": null,
   "metadata": {},
   "outputs": [],
   "source": [
    "def load_images_and_labels(path_image_dir, path_csv):\n",
    "    df = pd.read_csv(path_csv)\n",
    "    images_ids = df['Image'].values\n",
    "    images = []\n",
    "\n",
    "    if 'Class' in df.columns:\n",
    "        labels = df['Class'].values\n",
    "    else:\n",
    "        labels = None\n",
    "\n",
    "    for image_id in images_ids:\n",
    "        image_path = os.path.join(path_image_dir, image_id)\n",
    "        if os.path.isfile(image_path):\n",
    "            image_array = load_image(image_path)\n",
    "            images.append(image_array)\n",
    "    images = np.array(images)\n",
    "    return images, labels\n"
   ]
  },
  {
   "cell_type": "code",
   "execution_count": null,
   "metadata": {},
   "outputs": [],
   "source": [
    "x_train, y_train = load_images_and_labels('../data/train_images', '../data/train.csv')\n",
    "x_val, y_val = load_images_and_labels('../data/val_images', '../data/val.csv')\n",
    "x_test, _ = load_images_and_labels('../data/test_images', '../data/test.csv')"
   ]
  },
  {
   "cell_type": "code",
   "execution_count": null,
   "metadata": {},
   "outputs": [],
   "source": [
    "class KNN:\n",
    "    def __init__(self, train_images, train_labels):\n",
    "        self.train_images = train_images\n",
    "        self.train_labels = train_labels\n",
    "    \n",
    "    def predict(self, test_image, metric, k):\n",
    "        distances = "
   ]
  }
 ],
 "metadata": {
  "language_info": {
   "name": "python"
  },
  "orig_nbformat": 4
 },
 "nbformat": 4,
 "nbformat_minor": 2
}
