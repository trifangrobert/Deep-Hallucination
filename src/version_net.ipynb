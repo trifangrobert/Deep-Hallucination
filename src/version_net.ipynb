{
 "cells": [
  {
   "cell_type": "code",
   "execution_count": 1,
   "metadata": {
    "_cell_guid": "b1076dfc-b9ad-4769-8c92-a6c4dae69d19",
    "_uuid": "8f2839f25d086af736a60e9eeb907d3b93b6e0e5",
    "tags": []
   },
   "outputs": [
    {
     "name": "stderr",
     "output_type": "stream",
     "text": [
      "/home/ubuntu/.local/lib/python3.8/site-packages/pandas/core/computation/expressions.py:20: UserWarning: Pandas requires version '2.7.3' or newer of 'numexpr' (version '2.7.1' currently installed).\n",
      "  from pandas.core.computation.check import NUMEXPR_INSTALLED\n"
     ]
    }
   ],
   "source": [
    "import torch \n",
    "from torch import nn\n",
    "from torch.optim import Adam\n",
    "from torch.nn import CrossEntropyLoss, Linear, ReLU, Sequential\n",
    "import cv2\n",
    "from torch.utils.data import Dataset, DataLoader, ConcatDataset\n",
    "import pandas as pd\n",
    "import numpy as np\n",
    "import os\n",
    "from torchvision import transforms\n",
    "import matplotlib.pyplot as plt\n",
    "# from torchvision.models import resnet18\n",
    "from tqdm import tqdm"
   ]
  },
  {
   "cell_type": "code",
   "execution_count": 2,
   "metadata": {
    "tags": []
   },
   "outputs": [],
   "source": [
    "# DATA_PATH = \"/kaggle/input/unibuc-ml-202325/\"\n",
    "DATA_PATH = \"../data/\"\n",
    "device = torch.device('cuda' if torch.cuda.is_available() else 'cpu')\n",
    "hyperparameters = {\n",
    "    'batch_size': 64,\n",
    "    'learning_rate': 0.001,\n",
    "    'num_classes': 96,\n",
    "    'dropout': 0.5,\n",
    "    'trained_epochs': 0,\n",
    "    'patience': 5,\n",
    "    'image_size': (64, 64),\n",
    "    'best': 0,\n",
    "    'model_path': '../models/model_net.pth'\n",
    "}"
   ]
  },
  {
   "cell_type": "code",
   "execution_count": 3,
   "metadata": {
    "tags": []
   },
   "outputs": [],
   "source": [
    "class CustomImageDataset(Dataset):\n",
    "    def __init__(self, img_dir, csv_file, transform=None):\n",
    "        self.img_dir = img_dir\n",
    "        self.transform = transform\n",
    "        self.img_labels = pd.read_csv(csv_file)\n",
    "    def __len__(self):\n",
    "        return len(self.img_labels)\n",
    "    def __getitem__(self, index):\n",
    "        img_path = os.path.join(self.img_dir, self.img_labels.iloc[index, 0])\n",
    "        image = cv2.imread(img_path)\n",
    "        image = cv2.cvtColor(image, cv2.COLOR_BGR2RGB)\n",
    "        label = self.img_labels.iloc[index, 1]\n",
    "        if self.transform:\n",
    "            image = self.transform(image)\n",
    "        return (image, label)    "
   ]
  },
  {
   "cell_type": "code",
   "execution_count": 4,
   "metadata": {
    "tags": []
   },
   "outputs": [],
   "source": [
    "class TestImageDataset(Dataset):\n",
    "    def __init__(self, csv_file, img_dir, transform=None):\n",
    "        self.df = pd.read_csv(csv_file)\n",
    "        self.img_dir = img_dir\n",
    "        self.transform = transform\n",
    "\n",
    "    def __len__(self):\n",
    "        return len(self.df)\n",
    "\n",
    "    def __getitem__(self, index):\n",
    "        img_id = self.df.iloc[index, 0]\n",
    "        img_path = os.path.join(self.img_dir, img_id)\n",
    "        image = cv2.imread(img_path)\n",
    "        image = cv2.cvtColor(image, cv2.COLOR_BGR2RGB)\n",
    "        if self.transform:\n",
    "            image = self.transform(image)\n",
    "        return (image, img_id)\n"
   ]
  },
  {
   "cell_type": "code",
   "execution_count": 5,
   "metadata": {
    "tags": []
   },
   "outputs": [],
   "source": [
    "# for more image transforms  https://pytorch.org/vision/stable/transforms.html\n",
    "\n",
    "# transforms\n",
    "\n",
    "img_size = hyperparameters['image_size']\n",
    "\n",
    "original_transform = transforms.Compose([\n",
    "    transforms.ToPILImage(),\n",
    "    transforms.Resize(img_size),\n",
    "    transforms.ToTensor()\n",
    "])\n",
    "\n",
    "horizontal_flip_transform = transforms.Compose([\n",
    "    transforms.ToPILImage(),\n",
    "    transforms.Resize(img_size),\n",
    "    transforms.RandomHorizontalFlip(),\n",
    "    transforms.ToTensor()\n",
    "])\n",
    "\n",
    "vertical_flip_transform = transforms.Compose([\n",
    "    transforms.ToPILImage(),\n",
    "    transforms.Resize(img_size),\n",
    "    transforms.RandomVerticalFlip(),\n",
    "    transforms.ToTensor()\n",
    "])\n",
    "\n",
    "gaussian_blur_transform = transforms.Compose([\n",
    "    transforms.ToPILImage(),\n",
    "    transforms.Resize(img_size),\n",
    "    transforms.GaussianBlur(5, sigma=(0.1, 1.0)),\n",
    "    transforms.ToTensor()\n",
    "])\n",
    "\n",
    "translation_transform = transforms.Compose([\n",
    "    transforms.ToPILImage(),\n",
    "    transforms.Resize(img_size),\n",
    "    transforms.RandomAffine(degrees=0, translate=(0.1, 0.1)),\n",
    "    transforms.ToTensor()\n",
    "])\n",
    "\n",
    "noise_transform = transforms.Compose([\n",
    "    transforms.ToPILImage(),\n",
    "    transforms.Resize(img_size),\n",
    "    transforms.ToTensor(),\n",
    "    transforms.Lambda(lambda x: x + torch.randn_like(x) * 0.1),\n",
    "    transforms.ToPILImage(),\n",
    "    transforms.ToTensor()\n",
    "])\n",
    "\n",
    "rotation_transform = transforms.Compose([\n",
    "    transforms.ToPILImage(),\n",
    "    transforms.Resize(img_size),\n",
    "    transforms.RandomRotation(10),\n",
    "    transforms.ToTensor()\n",
    "])\n",
    "\n",
    "color_jitter_transform = transforms.Compose([\n",
    "    transforms.ToPILImage(),\n",
    "    transforms.Resize(img_size),\n",
    "    transforms.ColorJitter(brightness=0.1, contrast=0.1, saturation=0.1),\n",
    "    transforms.ToTensor()\n",
    "])\n",
    "\n",
    "resized_crop_transform = transforms.Compose([\n",
    "    transforms.ToPILImage(),\n",
    "    transforms.Resize(img_size),\n",
    "    transforms.RandomResizedCrop(img_size, scale=(0.8, 1.0)),\n",
    "    transforms.ToTensor()\n",
    "])\n",
    "\n",
    "extend_transform = transforms.Compose([\n",
    "    transforms.ToPILImage(),\n",
    "    transforms.Resize((128, 128)),\n",
    "    transforms.ToTensor()\n",
    "])"
   ]
  },
  {
   "cell_type": "code",
   "execution_count": 6,
   "metadata": {},
   "outputs": [],
   "source": [
    "# datasets\n",
    "\n",
    "original_dataset = CustomImageDataset(img_dir=DATA_PATH + \"train_images\", csv_file=DATA_PATH + \"train.csv\", transform=original_transform)\n",
    "horizontal_flip_dataset = CustomImageDataset(img_dir=DATA_PATH + \"train_images\", csv_file=DATA_PATH + \"train.csv\", transform=horizontal_flip_transform)\n",
    "rotation_dataset = CustomImageDataset(img_dir=DATA_PATH + \"train_images\", csv_file=DATA_PATH + \"train.csv\", transform=rotation_transform)\n",
    "color_jitter_dataset = CustomImageDataset(img_dir=DATA_PATH + \"train_images\", csv_file=DATA_PATH + \"train.csv\", transform=color_jitter_transform)\n",
    "resized_crop_dataset = CustomImageDataset(img_dir=DATA_PATH + \"train_images\", csv_file=DATA_PATH + \"train.csv\", transform=resized_crop_transform)\n",
    "vertical_dataset = CustomImageDataset(img_dir=DATA_PATH + \"train_images\", csv_file=DATA_PATH + \"train.csv\", transform=vertical_flip_transform)\n",
    "gaussian_blur_dataset = CustomImageDataset(img_dir=DATA_PATH + \"train_images\", csv_file=DATA_PATH + \"train.csv\", transform=gaussian_blur_transform)\n",
    "translation_dataset = CustomImageDataset(img_dir=DATA_PATH + \"train_images\", csv_file=DATA_PATH + \"train.csv\", transform=translation_transform)\n",
    "noise_dataset = CustomImageDataset(img_dir=DATA_PATH + \"train_images\", csv_file=DATA_PATH + \"train.csv\", transform=noise_transform)\n",
    "extend_dataset = CustomImageDataset(img_dir=DATA_PATH + \"train_images\", csv_file=DATA_PATH + \"train.csv\", transform=extend_transform)"
   ]
  },
  {
   "cell_type": "code",
   "execution_count": 7,
   "metadata": {},
   "outputs": [],
   "source": [
    "train_dataset = ConcatDataset([original_dataset, horizontal_flip_dataset, rotation_dataset, color_jitter_dataset, resized_crop_dataset, gaussian_blur_dataset, translation_dataset])\n",
    "val_dataset = CustomImageDataset(img_dir=DATA_PATH + \"val_images\", csv_file=DATA_PATH + \"val.csv\", transform=original_transform)\n",
    "test_dataset = TestImageDataset(img_dir=DATA_PATH + \"test_images\", csv_file=DATA_PATH + \"test.csv\", transform=original_transform)\n",
    "\n",
    "train_loader = DataLoader(train_dataset, batch_size=hyperparameters['batch_size'], shuffle=True)\n",
    "val_loader = DataLoader(val_dataset, batch_size=hyperparameters['batch_size'], shuffle=True)\n",
    "test_loader = DataLoader(test_dataset, batch_size=hyperparameters['batch_size'], shuffle=False)"
   ]
  },
  {
   "cell_type": "code",
   "execution_count": 8,
   "metadata": {
    "tags": []
   },
   "outputs": [],
   "source": [
    "class Net(nn.Module):\n",
    "    def __init__(self, num_classes=96):\n",
    "        super(Net, self).__init__()\n",
    "        self.features = nn.Sequential(\n",
    "            nn.Conv2d(in_channels=3, out_channels=64, kernel_size=3, stride=1, padding=1),\n",
    "            nn.ReLU(inplace=True),\n",
    "            nn.MaxPool2d(kernel_size=2, stride=2),\n",
    "\n",
    "            nn.Conv2d(in_channels=64, out_channels=128, kernel_size=3, stride=1, padding=1),\n",
    "            nn.ReLU(inplace=True),\n",
    "            nn.MaxPool2d(kernel_size=2, stride=2),\n",
    "\n",
    "            nn.Conv2d(in_channels=128, out_channels=256, kernel_size=3, stride=1, padding=1),\n",
    "            nn.ReLU(inplace=True),\n",
    "            nn.MaxPool2d(kernel_size=2, stride=2),\n",
    "\n",
    "            nn.Conv2d(in_channels=256, out_channels=512, kernel_size=3, stride=1, padding=1),\n",
    "            nn.ReLU(inplace=True),\n",
    "            nn.MaxPool2d(kernel_size=2, stride=2),\n",
    "\n",
    "            nn.Conv2d(in_channels=512, out_channels=512, kernel_size=3, stride=1, padding=1),\n",
    "            nn.ReLU(inplace=True),\n",
    "            nn.MaxPool2d(kernel_size=2, stride=2),\n",
    "        )\n",
    "\n",
    "        self.classifier = nn.Sequential(\n",
    "            nn.Linear(512*2*2, 4096),\n",
    "            nn.ReLU(inplace=True),\n",
    "            nn.Dropout(),\n",
    "\n",
    "            nn.Linear(4096, 4096),\n",
    "            nn.ReLU(inplace=True),\n",
    "            nn.Dropout(),\n",
    "\n",
    "            nn.Linear(4096, num_classes)\n",
    "        )\n",
    "    \n",
    "    def forward(self, x):\n",
    "        x = self.features(x)\n",
    "        x = torch.flatten(x, 1) # flatten all dimensions except batch, you can also use x.view(x.size(0), -1)\n",
    "        x = self.classifier(x)\n",
    "        return x"
   ]
  },
  {
   "cell_type": "code",
   "execution_count": 9,
   "metadata": {},
   "outputs": [],
   "source": [
    "def save_model(model, optimizer, path):\n",
    "    state = {'model': model.state_dict(), 'optimizer': optimizer.state_dict()}\n",
    "    torch.save(state, path)\n",
    "\n",
    "def load_model(model, optimizer, path):\n",
    "    state = torch.load(path)\n",
    "    model.load_state_dict(state['model'])\n",
    "    optimizer.load_state_dict(state['optimizer'])\n",
    "    return model, optimizer"
   ]
  },
  {
   "cell_type": "code",
   "execution_count": 10,
   "metadata": {},
   "outputs": [],
   "source": [
    "accuracy_list = []\n",
    "loss_list = []"
   ]
  },
  {
   "cell_type": "code",
   "execution_count": 11,
   "metadata": {
    "tags": []
   },
   "outputs": [],
   "source": [
    "def train_model(train_loader, val_loader, model, optimizer, num_epochs, hyperparameters):\n",
    "    model = model.to(device)\n",
    "    criterion = CrossEntropyLoss()\n",
    "    scheduler = torch.optim.lr_scheduler.ReduceLROnPlateau(optimizer, mode='min', factor=0.1, patience=hyperparameters['patience'])\n",
    "    trained_epochs = hyperparameters['trained_epochs']\n",
    "#     for epoch in range(num_epochs):\n",
    "    for epoch in range(num_epochs):\n",
    "        print(f\"Epoch {trained_epochs + epoch + 1} started... \")\n",
    "        # set the model to train mode\n",
    "        # enable dropout, batch normalization etc.\n",
    "        model.train()\n",
    "        for images, labels in tqdm(train_loader):\n",
    "            # loads the images to cuda if available\n",
    "            images = images.to(device)\n",
    "            labels = labels.to(device)\n",
    "\n",
    "            outputs = model(images) # forward pass\n",
    "            loss = criterion(outputs, labels) # compute the loss\n",
    "\n",
    "            optimizer.zero_grad() # reset the gradients because they accumulate by default\n",
    "            loss.backward() # compute the gradients in the backward pass\n",
    "            optimizer.step() # update the parameters based on the gradients computed in the backward pass\n",
    "        print(\"Validating data...\")\n",
    "        # set the model to evaluation mode\n",
    "        # disable dropout, batch normalization etc.\n",
    "        model.eval()\n",
    "        with torch.no_grad():  #o disable gradient calculation and backpropagation\n",
    "            val_loss = 0\n",
    "            correct = 0\n",
    "            total = 0\n",
    "            for images, labels in tqdm(val_loader):\n",
    "                # loads the images to cuda if available\n",
    "                images = images.to(device)\n",
    "                labels = labels.to(device)\n",
    "\n",
    "                outputs = model(images)\n",
    "                # torch.max returns a tuple (values, indices) where indices is the index of the maximum value of a tensor along a dimension\n",
    "                _, predicted = torch.max(outputs.data, 1)\n",
    "                total += labels.size(0)\n",
    "                correct += (predicted == labels).sum().item()\n",
    "                val_loss += criterion(outputs, labels).item()\n",
    "\n",
    "            val_loss /= len(val_loader)\n",
    "            scheduler.step(val_loss) # step the scheduler based on the validation loss\n",
    "\n",
    "            print('Epoch [{}/{}], Validation Accuracy: {:.2f}%, Validation Loss: {:.4f}'\n",
    "                    .format(trained_epochs + epoch + 1, trained_epochs + num_epochs, 100 * correct / total, val_loss))\n",
    "            accuracy_list.append(100 * correct / total)\n",
    "            loss_list.append(val_loss)\n",
    "            hyperparameters['trained_epochs'] += 1\n",
    "        if hyperparameters['best'] < correct / total:\n",
    "            hyperparameters['best'] = correct / total\n",
    "            save_model(model, optimizer, hyperparameters['model_path'])\n",
    "            print(\"Model saved!\")\n",
    "    return model, optimizer"
   ]
  },
  {
   "cell_type": "code",
   "execution_count": 12,
   "metadata": {
    "tags": []
   },
   "outputs": [],
   "source": [
    "def test_model(model, test_loader):\n",
    "    model.eval()\n",
    "    predicted_labels = []\n",
    "    image_ids = []\n",
    "    with torch.no_grad(): # to disable gradient calculation and backpropagation\n",
    "        for images, ids in tqdm(test_loader):\n",
    "            images = images.to(device)\n",
    "\n",
    "            outputs = model(images) # forward pass\n",
    "\n",
    "            _, predicted = torch.max(outputs.data, 1) # get the predicted class with highest probability\n",
    "\n",
    "            predicted_labels.extend(predicted.tolist())\n",
    "            image_ids.extend(ids)\n",
    "    return predicted_labels, image_ids"
   ]
  },
  {
   "cell_type": "code",
   "execution_count": 13,
   "metadata": {
    "tags": []
   },
   "outputs": [],
   "source": [
    "model = Net().to(device)\n",
    "optimizer = Adam(model.parameters(), lr=hyperparameters['learning_rate'])"
   ]
  },
  {
   "cell_type": "code",
   "execution_count": 14,
   "metadata": {},
   "outputs": [
    {
     "name": "stdout",
     "output_type": "stream",
     "text": [
      "Epoch 1 started... \n"
     ]
    },
    {
     "name": "stderr",
     "output_type": "stream",
     "text": [
      "100%|██████████| 1313/1313 [00:51<00:00, 25.30it/s]\n"
     ]
    },
    {
     "name": "stdout",
     "output_type": "stream",
     "text": [
      "Validating data...\n"
     ]
    },
    {
     "name": "stderr",
     "output_type": "stream",
     "text": [
      "100%|██████████| 16/16 [00:00<00:00, 38.07it/s]\n"
     ]
    },
    {
     "name": "stdout",
     "output_type": "stream",
     "text": [
      "Epoch [1/30], Validation Accuracy: 30.00%, Validation Loss: 2.4722\n",
      "Model saved!\n",
      "Epoch 2 started... \n"
     ]
    },
    {
     "name": "stderr",
     "output_type": "stream",
     "text": [
      "100%|██████████| 1313/1313 [00:50<00:00, 26.05it/s]\n"
     ]
    },
    {
     "name": "stdout",
     "output_type": "stream",
     "text": [
      "Validating data...\n"
     ]
    },
    {
     "name": "stderr",
     "output_type": "stream",
     "text": [
      "100%|██████████| 16/16 [00:00<00:00, 38.17it/s]\n"
     ]
    },
    {
     "name": "stdout",
     "output_type": "stream",
     "text": [
      "Epoch [2/30], Validation Accuracy: 54.30%, Validation Loss: 1.5258\n",
      "Model saved!\n",
      "Epoch 3 started... \n"
     ]
    },
    {
     "name": "stderr",
     "output_type": "stream",
     "text": [
      "100%|██████████| 1313/1313 [00:50<00:00, 26.09it/s]\n"
     ]
    },
    {
     "name": "stdout",
     "output_type": "stream",
     "text": [
      "Validating data...\n"
     ]
    },
    {
     "name": "stderr",
     "output_type": "stream",
     "text": [
      "100%|██████████| 16/16 [00:00<00:00, 38.21it/s]\n"
     ]
    },
    {
     "name": "stdout",
     "output_type": "stream",
     "text": [
      "Epoch [3/30], Validation Accuracy: 61.10%, Validation Loss: 1.2675\n",
      "Model saved!\n",
      "Epoch 4 started... \n"
     ]
    },
    {
     "name": "stderr",
     "output_type": "stream",
     "text": [
      "100%|██████████| 1313/1313 [00:51<00:00, 25.43it/s]\n"
     ]
    },
    {
     "name": "stdout",
     "output_type": "stream",
     "text": [
      "Validating data...\n"
     ]
    },
    {
     "name": "stderr",
     "output_type": "stream",
     "text": [
      "100%|██████████| 16/16 [00:00<00:00, 37.64it/s]\n"
     ]
    },
    {
     "name": "stdout",
     "output_type": "stream",
     "text": [
      "Epoch [4/30], Validation Accuracy: 65.20%, Validation Loss: 1.1546\n",
      "Model saved!\n",
      "Epoch 5 started... \n"
     ]
    },
    {
     "name": "stderr",
     "output_type": "stream",
     "text": [
      "100%|██████████| 1313/1313 [00:50<00:00, 25.93it/s]\n"
     ]
    },
    {
     "name": "stdout",
     "output_type": "stream",
     "text": [
      "Validating data...\n"
     ]
    },
    {
     "name": "stderr",
     "output_type": "stream",
     "text": [
      "100%|██████████| 16/16 [00:00<00:00, 38.13it/s]\n"
     ]
    },
    {
     "name": "stdout",
     "output_type": "stream",
     "text": [
      "Epoch [5/30], Validation Accuracy: 65.00%, Validation Loss: 1.2693\n",
      "Epoch 6 started... \n"
     ]
    },
    {
     "name": "stderr",
     "output_type": "stream",
     "text": [
      "100%|██████████| 1313/1313 [00:50<00:00, 26.02it/s]\n"
     ]
    },
    {
     "name": "stdout",
     "output_type": "stream",
     "text": [
      "Validating data...\n"
     ]
    },
    {
     "name": "stderr",
     "output_type": "stream",
     "text": [
      "100%|██████████| 16/16 [00:00<00:00, 38.22it/s]\n"
     ]
    },
    {
     "name": "stdout",
     "output_type": "stream",
     "text": [
      "Epoch [6/30], Validation Accuracy: 67.40%, Validation Loss: 1.1728\n",
      "Model saved!\n",
      "Epoch 7 started... \n"
     ]
    },
    {
     "name": "stderr",
     "output_type": "stream",
     "text": [
      "100%|██████████| 1313/1313 [00:50<00:00, 25.80it/s]\n"
     ]
    },
    {
     "name": "stdout",
     "output_type": "stream",
     "text": [
      "Validating data...\n"
     ]
    },
    {
     "name": "stderr",
     "output_type": "stream",
     "text": [
      "100%|██████████| 16/16 [00:00<00:00, 37.60it/s]\n"
     ]
    },
    {
     "name": "stdout",
     "output_type": "stream",
     "text": [
      "Epoch [7/30], Validation Accuracy: 69.40%, Validation Loss: 1.0857\n",
      "Model saved!\n",
      "Epoch 8 started... \n"
     ]
    },
    {
     "name": "stderr",
     "output_type": "stream",
     "text": [
      "100%|██████████| 1313/1313 [00:51<00:00, 25.67it/s]\n"
     ]
    },
    {
     "name": "stdout",
     "output_type": "stream",
     "text": [
      "Validating data...\n"
     ]
    },
    {
     "name": "stderr",
     "output_type": "stream",
     "text": [
      "100%|██████████| 16/16 [00:00<00:00, 38.12it/s]\n"
     ]
    },
    {
     "name": "stdout",
     "output_type": "stream",
     "text": [
      "Epoch [8/30], Validation Accuracy: 63.40%, Validation Loss: 1.3073\n",
      "Epoch 9 started... \n"
     ]
    },
    {
     "name": "stderr",
     "output_type": "stream",
     "text": [
      "100%|██████████| 1313/1313 [00:50<00:00, 26.03it/s]\n"
     ]
    },
    {
     "name": "stdout",
     "output_type": "stream",
     "text": [
      "Validating data...\n"
     ]
    },
    {
     "name": "stderr",
     "output_type": "stream",
     "text": [
      "100%|██████████| 16/16 [00:00<00:00, 37.70it/s]\n"
     ]
    },
    {
     "name": "stdout",
     "output_type": "stream",
     "text": [
      "Epoch [9/30], Validation Accuracy: 66.40%, Validation Loss: 1.2086\n",
      "Epoch 10 started... \n"
     ]
    },
    {
     "name": "stderr",
     "output_type": "stream",
     "text": [
      "100%|██████████| 1313/1313 [00:51<00:00, 25.69it/s]\n"
     ]
    },
    {
     "name": "stdout",
     "output_type": "stream",
     "text": [
      "Validating data...\n"
     ]
    },
    {
     "name": "stderr",
     "output_type": "stream",
     "text": [
      "100%|██████████| 16/16 [00:00<00:00, 38.20it/s]\n"
     ]
    },
    {
     "name": "stdout",
     "output_type": "stream",
     "text": [
      "Epoch [10/30], Validation Accuracy: 68.40%, Validation Loss: 1.2087\n",
      "Epoch 11 started... \n"
     ]
    },
    {
     "name": "stderr",
     "output_type": "stream",
     "text": [
      "100%|██████████| 1313/1313 [00:50<00:00, 26.00it/s]\n"
     ]
    },
    {
     "name": "stdout",
     "output_type": "stream",
     "text": [
      "Validating data...\n"
     ]
    },
    {
     "name": "stderr",
     "output_type": "stream",
     "text": [
      "100%|██████████| 16/16 [00:00<00:00, 37.45it/s]\n"
     ]
    },
    {
     "name": "stdout",
     "output_type": "stream",
     "text": [
      "Epoch [11/30], Validation Accuracy: 66.60%, Validation Loss: 1.2561\n",
      "Epoch 12 started... \n"
     ]
    },
    {
     "name": "stderr",
     "output_type": "stream",
     "text": [
      "100%|██████████| 1313/1313 [00:51<00:00, 25.61it/s]\n"
     ]
    },
    {
     "name": "stdout",
     "output_type": "stream",
     "text": [
      "Validating data...\n"
     ]
    },
    {
     "name": "stderr",
     "output_type": "stream",
     "text": [
      "100%|██████████| 16/16 [00:00<00:00, 37.75it/s]\n"
     ]
    },
    {
     "name": "stdout",
     "output_type": "stream",
     "text": [
      "Epoch [12/30], Validation Accuracy: 70.00%, Validation Loss: 1.1918\n",
      "Model saved!\n",
      "Epoch 13 started... \n"
     ]
    },
    {
     "name": "stderr",
     "output_type": "stream",
     "text": [
      "100%|██████████| 1313/1313 [00:51<00:00, 25.72it/s]\n"
     ]
    },
    {
     "name": "stdout",
     "output_type": "stream",
     "text": [
      "Validating data...\n"
     ]
    },
    {
     "name": "stderr",
     "output_type": "stream",
     "text": [
      "100%|██████████| 16/16 [00:00<00:00, 37.98it/s]\n"
     ]
    },
    {
     "name": "stdout",
     "output_type": "stream",
     "text": [
      "Epoch [13/30], Validation Accuracy: 66.00%, Validation Loss: 1.3200\n",
      "Epoch 14 started... \n"
     ]
    },
    {
     "name": "stderr",
     "output_type": "stream",
     "text": [
      "100%|██████████| 1313/1313 [00:51<00:00, 25.67it/s]\n"
     ]
    },
    {
     "name": "stdout",
     "output_type": "stream",
     "text": [
      "Validating data...\n"
     ]
    },
    {
     "name": "stderr",
     "output_type": "stream",
     "text": [
      "100%|██████████| 16/16 [00:00<00:00, 37.96it/s]\n"
     ]
    },
    {
     "name": "stdout",
     "output_type": "stream",
     "text": [
      "Epoch [14/30], Validation Accuracy: 71.70%, Validation Loss: 1.1853\n",
      "Model saved!\n",
      "Epoch 15 started... \n"
     ]
    },
    {
     "name": "stderr",
     "output_type": "stream",
     "text": [
      "100%|██████████| 1313/1313 [00:51<00:00, 25.63it/s]\n"
     ]
    },
    {
     "name": "stdout",
     "output_type": "stream",
     "text": [
      "Validating data...\n"
     ]
    },
    {
     "name": "stderr",
     "output_type": "stream",
     "text": [
      "100%|██████████| 16/16 [00:00<00:00, 37.58it/s]\n"
     ]
    },
    {
     "name": "stdout",
     "output_type": "stream",
     "text": [
      "Epoch [15/30], Validation Accuracy: 71.90%, Validation Loss: 1.1697\n",
      "Model saved!\n",
      "Epoch 16 started... \n"
     ]
    },
    {
     "name": "stderr",
     "output_type": "stream",
     "text": [
      "100%|██████████| 1313/1313 [00:51<00:00, 25.63it/s]\n"
     ]
    },
    {
     "name": "stdout",
     "output_type": "stream",
     "text": [
      "Validating data...\n"
     ]
    },
    {
     "name": "stderr",
     "output_type": "stream",
     "text": [
      "100%|██████████| 16/16 [00:00<00:00, 38.24it/s]\n"
     ]
    },
    {
     "name": "stdout",
     "output_type": "stream",
     "text": [
      "Epoch [16/30], Validation Accuracy: 72.10%, Validation Loss: 1.1713\n",
      "Model saved!\n",
      "Epoch 17 started... \n"
     ]
    },
    {
     "name": "stderr",
     "output_type": "stream",
     "text": [
      "100%|██████████| 1313/1313 [00:51<00:00, 25.64it/s]\n"
     ]
    },
    {
     "name": "stdout",
     "output_type": "stream",
     "text": [
      "Validating data...\n"
     ]
    },
    {
     "name": "stderr",
     "output_type": "stream",
     "text": [
      "100%|██████████| 16/16 [00:00<00:00, 37.23it/s]\n"
     ]
    },
    {
     "name": "stdout",
     "output_type": "stream",
     "text": [
      "Epoch [17/30], Validation Accuracy: 71.90%, Validation Loss: 1.1595\n",
      "Epoch 18 started... \n"
     ]
    },
    {
     "name": "stderr",
     "output_type": "stream",
     "text": [
      "100%|██████████| 1313/1313 [00:51<00:00, 25.39it/s]\n"
     ]
    },
    {
     "name": "stdout",
     "output_type": "stream",
     "text": [
      "Validating data...\n"
     ]
    },
    {
     "name": "stderr",
     "output_type": "stream",
     "text": [
      "100%|██████████| 16/16 [00:00<00:00, 37.38it/s]\n"
     ]
    },
    {
     "name": "stdout",
     "output_type": "stream",
     "text": [
      "Epoch [18/30], Validation Accuracy: 71.80%, Validation Loss: 1.1897\n",
      "Epoch 19 started... \n"
     ]
    },
    {
     "name": "stderr",
     "output_type": "stream",
     "text": [
      "100%|██████████| 1313/1313 [00:51<00:00, 25.49it/s]\n"
     ]
    },
    {
     "name": "stdout",
     "output_type": "stream",
     "text": [
      "Validating data...\n"
     ]
    },
    {
     "name": "stderr",
     "output_type": "stream",
     "text": [
      "100%|██████████| 16/16 [00:00<00:00, 38.05it/s]\n"
     ]
    },
    {
     "name": "stdout",
     "output_type": "stream",
     "text": [
      "Epoch [19/30], Validation Accuracy: 72.30%, Validation Loss: 1.1762\n",
      "Model saved!\n",
      "Epoch 20 started... \n"
     ]
    },
    {
     "name": "stderr",
     "output_type": "stream",
     "text": [
      "100%|██████████| 1313/1313 [00:50<00:00, 25.85it/s]\n"
     ]
    },
    {
     "name": "stdout",
     "output_type": "stream",
     "text": [
      "Validating data...\n"
     ]
    },
    {
     "name": "stderr",
     "output_type": "stream",
     "text": [
      "100%|██████████| 16/16 [00:00<00:00, 37.48it/s]\n"
     ]
    },
    {
     "name": "stdout",
     "output_type": "stream",
     "text": [
      "Epoch [20/30], Validation Accuracy: 73.20%, Validation Loss: 1.1519\n",
      "Model saved!\n",
      "Epoch 21 started... \n"
     ]
    },
    {
     "name": "stderr",
     "output_type": "stream",
     "text": [
      "100%|██████████| 1313/1313 [00:51<00:00, 25.54it/s]\n"
     ]
    },
    {
     "name": "stdout",
     "output_type": "stream",
     "text": [
      "Validating data...\n"
     ]
    },
    {
     "name": "stderr",
     "output_type": "stream",
     "text": [
      "100%|██████████| 16/16 [00:00<00:00, 37.61it/s]\n"
     ]
    },
    {
     "name": "stdout",
     "output_type": "stream",
     "text": [
      "Epoch [21/30], Validation Accuracy: 73.00%, Validation Loss: 1.1427\n",
      "Epoch 22 started... \n"
     ]
    },
    {
     "name": "stderr",
     "output_type": "stream",
     "text": [
      "100%|██████████| 1313/1313 [00:51<00:00, 25.70it/s]\n"
     ]
    },
    {
     "name": "stdout",
     "output_type": "stream",
     "text": [
      "Validating data...\n"
     ]
    },
    {
     "name": "stderr",
     "output_type": "stream",
     "text": [
      "100%|██████████| 16/16 [00:00<00:00, 38.16it/s]\n"
     ]
    },
    {
     "name": "stdout",
     "output_type": "stream",
     "text": [
      "Epoch [22/30], Validation Accuracy: 72.60%, Validation Loss: 1.1568\n",
      "Epoch 23 started... \n"
     ]
    },
    {
     "name": "stderr",
     "output_type": "stream",
     "text": [
      "100%|██████████| 1313/1313 [00:50<00:00, 25.92it/s]\n"
     ]
    },
    {
     "name": "stdout",
     "output_type": "stream",
     "text": [
      "Validating data...\n"
     ]
    },
    {
     "name": "stderr",
     "output_type": "stream",
     "text": [
      "100%|██████████| 16/16 [00:00<00:00, 37.85it/s]\n"
     ]
    },
    {
     "name": "stdout",
     "output_type": "stream",
     "text": [
      "Epoch [23/30], Validation Accuracy: 72.60%, Validation Loss: 1.1771\n",
      "Epoch 24 started... \n"
     ]
    },
    {
     "name": "stderr",
     "output_type": "stream",
     "text": [
      "100%|██████████| 1313/1313 [00:50<00:00, 25.98it/s]\n"
     ]
    },
    {
     "name": "stdout",
     "output_type": "stream",
     "text": [
      "Validating data...\n"
     ]
    },
    {
     "name": "stderr",
     "output_type": "stream",
     "text": [
      "100%|██████████| 16/16 [00:00<00:00, 38.34it/s]\n"
     ]
    },
    {
     "name": "stdout",
     "output_type": "stream",
     "text": [
      "Epoch [24/30], Validation Accuracy: 72.80%, Validation Loss: 1.1621\n",
      "Epoch 25 started... \n"
     ]
    },
    {
     "name": "stderr",
     "output_type": "stream",
     "text": [
      "100%|██████████| 1313/1313 [00:50<00:00, 26.07it/s]\n"
     ]
    },
    {
     "name": "stdout",
     "output_type": "stream",
     "text": [
      "Validating data...\n"
     ]
    },
    {
     "name": "stderr",
     "output_type": "stream",
     "text": [
      "100%|██████████| 16/16 [00:00<00:00, 38.38it/s]\n"
     ]
    },
    {
     "name": "stdout",
     "output_type": "stream",
     "text": [
      "Epoch [25/30], Validation Accuracy: 72.50%, Validation Loss: 1.1769\n",
      "Epoch 26 started... \n"
     ]
    },
    {
     "name": "stderr",
     "output_type": "stream",
     "text": [
      "100%|██████████| 1313/1313 [00:50<00:00, 26.04it/s]\n"
     ]
    },
    {
     "name": "stdout",
     "output_type": "stream",
     "text": [
      "Validating data...\n"
     ]
    },
    {
     "name": "stderr",
     "output_type": "stream",
     "text": [
      "100%|██████████| 16/16 [00:00<00:00, 38.32it/s]\n"
     ]
    },
    {
     "name": "stdout",
     "output_type": "stream",
     "text": [
      "Epoch [26/30], Validation Accuracy: 72.60%, Validation Loss: 1.1869\n",
      "Epoch 27 started... \n"
     ]
    },
    {
     "name": "stderr",
     "output_type": "stream",
     "text": [
      "100%|██████████| 1313/1313 [00:50<00:00, 25.93it/s]\n"
     ]
    },
    {
     "name": "stdout",
     "output_type": "stream",
     "text": [
      "Validating data...\n"
     ]
    },
    {
     "name": "stderr",
     "output_type": "stream",
     "text": [
      "100%|██████████| 16/16 [00:00<00:00, 37.89it/s]\n"
     ]
    },
    {
     "name": "stdout",
     "output_type": "stream",
     "text": [
      "Epoch [27/30], Validation Accuracy: 72.80%, Validation Loss: 1.1706\n",
      "Epoch 28 started... \n"
     ]
    },
    {
     "name": "stderr",
     "output_type": "stream",
     "text": [
      "100%|██████████| 1313/1313 [00:51<00:00, 25.61it/s]\n"
     ]
    },
    {
     "name": "stdout",
     "output_type": "stream",
     "text": [
      "Validating data...\n"
     ]
    },
    {
     "name": "stderr",
     "output_type": "stream",
     "text": [
      "100%|██████████| 16/16 [00:00<00:00, 37.52it/s]\n"
     ]
    },
    {
     "name": "stdout",
     "output_type": "stream",
     "text": [
      "Epoch [28/30], Validation Accuracy: 72.80%, Validation Loss: 1.1728\n",
      "Epoch 29 started... \n"
     ]
    },
    {
     "name": "stderr",
     "output_type": "stream",
     "text": [
      "100%|██████████| 1313/1313 [00:51<00:00, 25.69it/s]\n"
     ]
    },
    {
     "name": "stdout",
     "output_type": "stream",
     "text": [
      "Validating data...\n"
     ]
    },
    {
     "name": "stderr",
     "output_type": "stream",
     "text": [
      "100%|██████████| 16/16 [00:00<00:00, 38.05it/s]\n"
     ]
    },
    {
     "name": "stdout",
     "output_type": "stream",
     "text": [
      "Epoch [29/30], Validation Accuracy: 72.80%, Validation Loss: 1.1872\n",
      "Epoch 30 started... \n"
     ]
    },
    {
     "name": "stderr",
     "output_type": "stream",
     "text": [
      "100%|██████████| 1313/1313 [00:50<00:00, 25.88it/s]\n"
     ]
    },
    {
     "name": "stdout",
     "output_type": "stream",
     "text": [
      "Validating data...\n"
     ]
    },
    {
     "name": "stderr",
     "output_type": "stream",
     "text": [
      "100%|██████████| 16/16 [00:00<00:00, 37.92it/s]"
     ]
    },
    {
     "name": "stdout",
     "output_type": "stream",
     "text": [
      "Epoch [30/30], Validation Accuracy: 72.60%, Validation Loss: 1.1691\n"
     ]
    },
    {
     "name": "stderr",
     "output_type": "stream",
     "text": [
      "\n"
     ]
    }
   ],
   "source": [
    "model, optimizer = train_model(train_loader, val_loader, model, optimizer, 30, hyperparameters)"
   ]
  },
  {
   "cell_type": "code",
   "execution_count": null,
   "metadata": {},
   "outputs": [],
   "source": [
    "model, optimizer = load_model(model, optimizer, f\"model.pth\")"
   ]
  },
  {
   "cell_type": "code",
   "execution_count": 18,
   "metadata": {},
   "outputs": [
    {
     "data": {
      "image/png": "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\n",
      "text/plain": [
       "<Figure size 720x360 with 2 Axes>"
      ]
     },
     "metadata": {
      "needs_background": "light"
     },
     "output_type": "display_data"
    },
    {
     "data": {
      "text/plain": [
       "<Figure size 432x288 with 0 Axes>"
      ]
     },
     "metadata": {},
     "output_type": "display_data"
    }
   ],
   "source": [
    "# plot the accuracy and loss in two different plots\n",
    "plt.figure(figsize=(10, 5))\n",
    "plt.subplot(1, 2, 1)\n",
    "plt.plot(accuracy_list)\n",
    "plt.title('Validation Accuracy')\n",
    "plt.xlabel('Epoch')\n",
    "plt.ylabel('Accuracy')\n",
    "plt.subplot(1, 2, 2)\n",
    "plt.plot(loss_list)\n",
    "plt.title('Validation Loss')\n",
    "plt.xlabel('Epoch')\n",
    "plt.ylabel('Loss')\n",
    "plt.show()\n",
<<<<<<< HEAD
    "plt.savefig('accuracy_loss_net.png')\n"
=======
    "plt.savefig('../plots/accuracy_loss_net.png')\n"
>>>>>>> refs/remotes/origin/main
   ]
  },
  {
   "cell_type": "code",
   "execution_count": null,
   "metadata": {
    "execution": {
     "iopub.status.busy": "2023-05-28T14:28:23.454920Z",
     "iopub.status.idle": "2023-05-28T14:28:23.456008Z",
     "shell.execute_reply": "2023-05-28T14:28:23.455761Z",
     "shell.execute_reply.started": "2023-05-28T14:28:23.455738Z"
    }
   },
   "outputs": [],
   "source": [
    "predicted_labels, image_ids = test_model(model, test_loader)"
   ]
  },
  {
   "cell_type": "code",
   "execution_count": null,
   "metadata": {
    "execution": {
     "iopub.status.busy": "2023-05-28T14:28:23.460679Z",
     "iopub.status.idle": "2023-05-28T14:28:23.461737Z",
     "shell.execute_reply": "2023-05-28T14:28:23.461504Z",
     "shell.execute_reply.started": "2023-05-28T14:28:23.461481Z"
    }
   },
   "outputs": [],
   "source": [
    "df_predictions = pd.DataFrame({\n",
    "    'Image': image_ids,\n",
    "    'Class': predicted_labels\n",
    "})\n",
    "\n",
    "# Save the DataFrame to a CSV file\n",
    "df_predictions.to_csv('submission.csv', index=False)"
   ]
  }
 ],
 "metadata": {
  "kernelspec": {
   "display_name": "Python 3",
   "language": "python",
   "name": "python3"
  },
  "language_info": {
   "codemirror_mode": {
    "name": "ipython",
    "version": 3
   },
   "file_extension": ".py",
   "mimetype": "text/x-python",
   "name": "python",
   "nbconvert_exporter": "python",
   "pygments_lexer": "ipython3",
   "version": "3.8.10"
  }
 },
 "nbformat": 4,
 "nbformat_minor": 4
}
